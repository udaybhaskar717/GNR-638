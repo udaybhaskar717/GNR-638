{
  "nbformat": 4,
  "nbformat_minor": 0,
  "metadata": {
    "colab": {
      "name": "213170007_Assignmnet_1.ipynb",
      "provenance": [],
      "collapsed_sections": [],
      "authorship_tag": "ABX9TyM0kuxaZECwHyRdWp7GSZe4",
      "include_colab_link": true
    },
    "kernelspec": {
      "name": "python3",
      "display_name": "Python 3"
    },
    "language_info": {
      "name": "python"
    },
    "widgets": {
      "application/vnd.jupyter.widget-state+json": {
        "0dae4e7120e246049209e1cbb2abfcfc": {
          "model_module": "@jupyter-widgets/controls",
          "model_name": "HBoxModel",
          "model_module_version": "1.5.0",
          "state": {
            "_dom_classes": [],
            "_model_module": "@jupyter-widgets/controls",
            "_model_module_version": "1.5.0",
            "_model_name": "HBoxModel",
            "_view_count": null,
            "_view_module": "@jupyter-widgets/controls",
            "_view_module_version": "1.5.0",
            "_view_name": "HBoxView",
            "box_style": "",
            "children": [
              "IPY_MODEL_62430c762f8746bdbbc4df6ee41fbd20",
              "IPY_MODEL_d3d653b1897648fb8be3fee8b154e271",
              "IPY_MODEL_4924a74c14f044d5bdd3c30ee1a54683"
            ],
            "layout": "IPY_MODEL_a542c74fe10f4f71ae763ee6bcdaba73"
          }
        },
        "62430c762f8746bdbbc4df6ee41fbd20": {
          "model_module": "@jupyter-widgets/controls",
          "model_name": "HTMLModel",
          "model_module_version": "1.5.0",
          "state": {
            "_dom_classes": [],
            "_model_module": "@jupyter-widgets/controls",
            "_model_module_version": "1.5.0",
            "_model_name": "HTMLModel",
            "_view_count": null,
            "_view_module": "@jupyter-widgets/controls",
            "_view_module_version": "1.5.0",
            "_view_name": "HTMLView",
            "description": "",
            "description_tooltip": null,
            "layout": "IPY_MODEL_b51c8e6419f34f3ba154e0b412b4bec4",
            "placeholder": "​",
            "style": "IPY_MODEL_a012df32698b40048318787c4511bd93",
            "value": "100%"
          }
        },
        "d3d653b1897648fb8be3fee8b154e271": {
          "model_module": "@jupyter-widgets/controls",
          "model_name": "FloatProgressModel",
          "model_module_version": "1.5.0",
          "state": {
            "_dom_classes": [],
            "_model_module": "@jupyter-widgets/controls",
            "_model_module_version": "1.5.0",
            "_model_name": "FloatProgressModel",
            "_view_count": null,
            "_view_module": "@jupyter-widgets/controls",
            "_view_module_version": "1.5.0",
            "_view_name": "ProgressView",
            "bar_style": "success",
            "description": "",
            "description_tooltip": null,
            "layout": "IPY_MODEL_e293ad5efca340faba6eeb389fec91a1",
            "max": 3000,
            "min": 0,
            "orientation": "horizontal",
            "style": "IPY_MODEL_2a93e91ce9c54658a03e9bc48accafad",
            "value": 3000
          }
        },
        "4924a74c14f044d5bdd3c30ee1a54683": {
          "model_module": "@jupyter-widgets/controls",
          "model_name": "HTMLModel",
          "model_module_version": "1.5.0",
          "state": {
            "_dom_classes": [],
            "_model_module": "@jupyter-widgets/controls",
            "_model_module_version": "1.5.0",
            "_model_name": "HTMLModel",
            "_view_count": null,
            "_view_module": "@jupyter-widgets/controls",
            "_view_module_version": "1.5.0",
            "_view_name": "HTMLView",
            "description": "",
            "description_tooltip": null,
            "layout": "IPY_MODEL_c09162bcdaed4f0c9c0ab5ecd5149f32",
            "placeholder": "​",
            "style": "IPY_MODEL_e32cdb1258dc4711a5cc848dce25cb66",
            "value": " 3000/3000 [02:03&lt;00:00, 25.05epoch/s]"
          }
        },
        "a542c74fe10f4f71ae763ee6bcdaba73": {
          "model_module": "@jupyter-widgets/base",
          "model_name": "LayoutModel",
          "model_module_version": "1.2.0",
          "state": {
            "_model_module": "@jupyter-widgets/base",
            "_model_module_version": "1.2.0",
            "_model_name": "LayoutModel",
            "_view_count": null,
            "_view_module": "@jupyter-widgets/base",
            "_view_module_version": "1.2.0",
            "_view_name": "LayoutView",
            "align_content": null,
            "align_items": null,
            "align_self": null,
            "border": null,
            "bottom": null,
            "display": null,
            "flex": null,
            "flex_flow": null,
            "grid_area": null,
            "grid_auto_columns": null,
            "grid_auto_flow": null,
            "grid_auto_rows": null,
            "grid_column": null,
            "grid_gap": null,
            "grid_row": null,
            "grid_template_areas": null,
            "grid_template_columns": null,
            "grid_template_rows": null,
            "height": null,
            "justify_content": null,
            "justify_items": null,
            "left": null,
            "margin": null,
            "max_height": null,
            "max_width": null,
            "min_height": null,
            "min_width": null,
            "object_fit": null,
            "object_position": null,
            "order": null,
            "overflow": null,
            "overflow_x": null,
            "overflow_y": null,
            "padding": null,
            "right": null,
            "top": null,
            "visibility": null,
            "width": null
          }
        },
        "b51c8e6419f34f3ba154e0b412b4bec4": {
          "model_module": "@jupyter-widgets/base",
          "model_name": "LayoutModel",
          "model_module_version": "1.2.0",
          "state": {
            "_model_module": "@jupyter-widgets/base",
            "_model_module_version": "1.2.0",
            "_model_name": "LayoutModel",
            "_view_count": null,
            "_view_module": "@jupyter-widgets/base",
            "_view_module_version": "1.2.0",
            "_view_name": "LayoutView",
            "align_content": null,
            "align_items": null,
            "align_self": null,
            "border": null,
            "bottom": null,
            "display": null,
            "flex": null,
            "flex_flow": null,
            "grid_area": null,
            "grid_auto_columns": null,
            "grid_auto_flow": null,
            "grid_auto_rows": null,
            "grid_column": null,
            "grid_gap": null,
            "grid_row": null,
            "grid_template_areas": null,
            "grid_template_columns": null,
            "grid_template_rows": null,
            "height": null,
            "justify_content": null,
            "justify_items": null,
            "left": null,
            "margin": null,
            "max_height": null,
            "max_width": null,
            "min_height": null,
            "min_width": null,
            "object_fit": null,
            "object_position": null,
            "order": null,
            "overflow": null,
            "overflow_x": null,
            "overflow_y": null,
            "padding": null,
            "right": null,
            "top": null,
            "visibility": null,
            "width": null
          }
        },
        "a012df32698b40048318787c4511bd93": {
          "model_module": "@jupyter-widgets/controls",
          "model_name": "DescriptionStyleModel",
          "model_module_version": "1.5.0",
          "state": {
            "_model_module": "@jupyter-widgets/controls",
            "_model_module_version": "1.5.0",
            "_model_name": "DescriptionStyleModel",
            "_view_count": null,
            "_view_module": "@jupyter-widgets/base",
            "_view_module_version": "1.2.0",
            "_view_name": "StyleView",
            "description_width": ""
          }
        },
        "e293ad5efca340faba6eeb389fec91a1": {
          "model_module": "@jupyter-widgets/base",
          "model_name": "LayoutModel",
          "model_module_version": "1.2.0",
          "state": {
            "_model_module": "@jupyter-widgets/base",
            "_model_module_version": "1.2.0",
            "_model_name": "LayoutModel",
            "_view_count": null,
            "_view_module": "@jupyter-widgets/base",
            "_view_module_version": "1.2.0",
            "_view_name": "LayoutView",
            "align_content": null,
            "align_items": null,
            "align_self": null,
            "border": null,
            "bottom": null,
            "display": null,
            "flex": null,
            "flex_flow": null,
            "grid_area": null,
            "grid_auto_columns": null,
            "grid_auto_flow": null,
            "grid_auto_rows": null,
            "grid_column": null,
            "grid_gap": null,
            "grid_row": null,
            "grid_template_areas": null,
            "grid_template_columns": null,
            "grid_template_rows": null,
            "height": null,
            "justify_content": null,
            "justify_items": null,
            "left": null,
            "margin": null,
            "max_height": null,
            "max_width": null,
            "min_height": null,
            "min_width": null,
            "object_fit": null,
            "object_position": null,
            "order": null,
            "overflow": null,
            "overflow_x": null,
            "overflow_y": null,
            "padding": null,
            "right": null,
            "top": null,
            "visibility": null,
            "width": null
          }
        },
        "2a93e91ce9c54658a03e9bc48accafad": {
          "model_module": "@jupyter-widgets/controls",
          "model_name": "ProgressStyleModel",
          "model_module_version": "1.5.0",
          "state": {
            "_model_module": "@jupyter-widgets/controls",
            "_model_module_version": "1.5.0",
            "_model_name": "ProgressStyleModel",
            "_view_count": null,
            "_view_module": "@jupyter-widgets/base",
            "_view_module_version": "1.2.0",
            "_view_name": "StyleView",
            "bar_color": null,
            "description_width": ""
          }
        },
        "c09162bcdaed4f0c9c0ab5ecd5149f32": {
          "model_module": "@jupyter-widgets/base",
          "model_name": "LayoutModel",
          "model_module_version": "1.2.0",
          "state": {
            "_model_module": "@jupyter-widgets/base",
            "_model_module_version": "1.2.0",
            "_model_name": "LayoutModel",
            "_view_count": null,
            "_view_module": "@jupyter-widgets/base",
            "_view_module_version": "1.2.0",
            "_view_name": "LayoutView",
            "align_content": null,
            "align_items": null,
            "align_self": null,
            "border": null,
            "bottom": null,
            "display": null,
            "flex": null,
            "flex_flow": null,
            "grid_area": null,
            "grid_auto_columns": null,
            "grid_auto_flow": null,
            "grid_auto_rows": null,
            "grid_column": null,
            "grid_gap": null,
            "grid_row": null,
            "grid_template_areas": null,
            "grid_template_columns": null,
            "grid_template_rows": null,
            "height": null,
            "justify_content": null,
            "justify_items": null,
            "left": null,
            "margin": null,
            "max_height": null,
            "max_width": null,
            "min_height": null,
            "min_width": null,
            "object_fit": null,
            "object_position": null,
            "order": null,
            "overflow": null,
            "overflow_x": null,
            "overflow_y": null,
            "padding": null,
            "right": null,
            "top": null,
            "visibility": null,
            "width": null
          }
        },
        "e32cdb1258dc4711a5cc848dce25cb66": {
          "model_module": "@jupyter-widgets/controls",
          "model_name": "DescriptionStyleModel",
          "model_module_version": "1.5.0",
          "state": {
            "_model_module": "@jupyter-widgets/controls",
            "_model_module_version": "1.5.0",
            "_model_name": "DescriptionStyleModel",
            "_view_count": null,
            "_view_module": "@jupyter-widgets/base",
            "_view_module_version": "1.2.0",
            "_view_name": "StyleView",
            "description_width": ""
          }
        }
      }
    },
    "accelerator": "GPU",
    "gpuClass": "standard"
  },
  "cells": [
    {
      "cell_type": "markdown",
      "metadata": {
        "id": "view-in-github",
        "colab_type": "text"
      },
      "source": [
        "<a href=\"https://colab.research.google.com/github/udaybhaskar717/GNR-638/blob/main/213170007_Assignmnet_1.ipynb\" target=\"_parent\"><img src=\"https://colab.research.google.com/assets/colab-badge.svg\" alt=\"Open In Colab\"/></a>"
      ]
    },
    {
      "cell_type": "code",
      "execution_count": null,
      "metadata": {
        "id": "d7GMCmZt-FMN"
      },
      "outputs": [],
      "source": [
        "import numpy as np\n",
        "import matplotlib.pyplot as plt\n",
        "import matplotlib.colors\n",
        "import pandas as pd\n",
        "from sklearn.model_selection import train_test_split\n",
        "from sklearn.metrics import accuracy_score, mean_squared_error, log_loss\n",
        "from tqdm import tqdm_notebook \n",
        "import tqdm\n",
        "import seaborn as sns\n",
        "import imageio\n",
        "from IPython.display import HTML\n",
        "\n",
        "\n",
        "from sklearn.preprocessing import OneHotEncoder\n",
        "from sklearn.datasets import make_blobs"
      ]
    },
    {
      "cell_type": "code",
      "source": [
        "my_cmap = matplotlib.colors.LinearSegmentedColormap.from_list(\"\", [\"red\",\"yellow\",\"green\"])"
      ],
      "metadata": {
        "id": "4qfD6-eVBn0Y"
      },
      "execution_count": null,
      "outputs": []
    },
    {
      "cell_type": "code",
      "source": [
        "np.random.seed(0)"
      ],
      "metadata": {
        "id": "nf6fK5cxBqPm"
      },
      "execution_count": null,
      "outputs": []
    },
    {
      "cell_type": "code",
      "source": [
        "data, labels = make_blobs(n_samples=1000, centers=2, n_features=2, random_state=0)\n",
        "print(data.shape, labels.shape)"
      ],
      "metadata": {
        "colab": {
          "base_uri": "https://localhost:8080/"
        },
        "id": "-L5EqFcKBr_U",
        "outputId": "e724d7d6-e060-40de-d8a8-900b3ab600e2"
      },
      "execution_count": null,
      "outputs": [
        {
          "output_type": "stream",
          "name": "stdout",
          "text": [
            "(1000, 2) (1000,)\n"
          ]
        }
      ]
    },
    {
      "cell_type": "code",
      "source": [
        "X_train, X_val, Y_train, Y_val = train_test_split(data, labels, stratify=labels, random_state=0)\n",
        "print(X_train.shape, X_val.shape, labels.shape)"
      ],
      "metadata": {
        "colab": {
          "base_uri": "https://localhost:8080/"
        },
        "id": "xeekhaMGzRPU",
        "outputId": "cf2f81ea-5621-4b6b-8911-386cdfb1d74b"
      },
      "execution_count": null,
      "outputs": [
        {
          "output_type": "stream",
          "name": "stdout",
          "text": [
            "(750, 2) (250, 2) (1000,)\n"
          ]
        }
      ]
    },
    {
      "cell_type": "code",
      "source": [
        "plt.scatter(data[:,0], data[:,1], c=labels, cmap=my_cmap)\n",
        "plt.show()"
      ],
      "metadata": {
        "colab": {
          "base_uri": "https://localhost:8080/",
          "height": 265
        },
        "id": "j7nY4QkGBtbj",
        "outputId": "5d0e357a-7290-4078-e79e-b6fdffa557a1"
      },
      "execution_count": null,
      "outputs": [
        {
          "output_type": "display_data",
          "data": {
            "text/plain": [
              "<Figure size 432x288 with 1 Axes>"
            ],
            "image/png": "[encoded data removed]"
          },
          "metadata": {
            "needs_background": "light"
          }
        }
      ]
    },
    {
      "cell_type": "code",
      "source": [
        "enc = OneHotEncoder()\n",
        "# 0 -> (1, 0, 0, 0), 1 -> (0, 1, 0, 0), 2 -> (0, 0, 1, 0), 3 -> (0, 0, 0, 1)\n",
        "y_OH_train = enc.fit_transform(np.expand_dims(Y_train,1)).toarray()\n",
        "y_OH_val = enc.fit_transform(np.expand_dims(Y_val,1)).toarray()"
      ],
      "metadata": {
        "id": "vesFPH4KzM08"
      },
      "execution_count": null,
      "outputs": []
    },
    {
      "cell_type": "code",
      "source": [
        "class net:\n",
        "    def __init__(self):\n",
        "        self.w1=np.random.rand()\n",
        "        self.w2=np.random.rand()\n",
        "        self.w3=np.random.rand()\n",
        "        self.w4=np.random.rand()\n",
        "        self.w5=np.random.rand()\n",
        "        self.w6=np.random.rand()\n",
        "        self.w7=np.random.rand()\n",
        "        self.w8=np.random.rand()\n",
        "        self.b1=0\n",
        "        self.b2=0\n",
        "        self.b3=0\n",
        "        self.b4=0\n",
        "    def tanh(self,x):\n",
        "        return np.tanh(x)\n",
        "    def softmax(self,A):\n",
        "        return np.exp(A)/(np.sum(np.exp(A)))\n",
        "    def forward_pass(self,x):\n",
        "        self.x1,self.x2=x\n",
        "        self.a1 = self.w1*self.x1+self.w2*self.x2++self.b1\n",
        "        self.h1 = self.tanh(self.a1)\n",
        "        self.a2 = self.w3*self.x1+self.w4*self.x2++self.b2\n",
        "        self.h2 = self.tanh(self.a2)\n",
        "        self.a3 = self.w5*self.h1+self.w6*self.h2++self.b3\n",
        "        self.a4 = self.w7*self.h1+self.w8*self.h2++self.b4\n",
        "        self.h3,self.h4 = self.softmax(np.array([self.a3,self.a4]))\n",
        "        return np.array([self.h3,self.h4])\n",
        "    def grad(self,x,y):\n",
        "        self.forward_pass(x)\n",
        "        self.y1,self.y2 =y\n",
        "        self.da3 = (self.h3-self.y1)*(self.h3*(1-self.h3)+1)\n",
        "        self.da4 = (self.h4-self.y2)*(self.h4*(1-self.h4)+1)\n",
        "\n",
        "        self.dw5 = self.da3 * self.h1\n",
        "        self.dw6 = self.da3 * self.h2\n",
        "        self.db3 = self.da3\n",
        "\n",
        "        self.dw7 = self.da4 * self.h1\n",
        "        self.dw8 = self.da4 * self.h2\n",
        "        self.db4 = self.da4\n",
        "\n",
        "        self.da1 = (1-self.h1**2) * (self.da3*self.w5 + self.da4*self.w7)\n",
        "        self.da2 = (1-self.h2**2) * (self.da3*self.w6 + self.da4*self.w8)\n",
        "\n",
        "        self.dw1 = self.da1*self.x1\n",
        "        self.dw2 = self.da1*self.x2\n",
        "        self.db1 = self.da1\n",
        "\n",
        "        self.dw3 = self.da2*self.x1\n",
        "        self.dw4 = self.da2*self.x2\n",
        "        self.db2 = self.da2\n",
        "\n",
        "    def fit(self,X,Y,epochs=1,learning_rate=1,display_loss=False):\n",
        "        if display_loss:\n",
        "            loss={}\n",
        "        \n",
        "        for i in tqdm_notebook(range(epochs),total=epochs,unit='epoch'):\n",
        "            dw1,dw2,dw3,dw4,dw5,dw6,dw7,dw8,db1,db2,db3,db4 =[0]*12\n",
        "            for x,y in zip(X,Y):\n",
        "                self.grad(x,y)\n",
        "                dw1+=self.dw1\n",
        "                dw2+=self.dw2\n",
        "                dw3+=self.dw3\n",
        "                dw4+=self.dw4\n",
        "                dw5+=self.dw5\n",
        "                dw6+=self.dw6\n",
        "                dw7+=self.dw7\n",
        "                dw8+=self.dw8\n",
        "                db1+=self.db1\n",
        "                db2+=self.db2\n",
        "                db3+=self.db3\n",
        "                db4+=self.db4\n",
        "            m=X.shape[0]\n",
        "            self.w1 -= learning_rate * dw1/m\n",
        "            self.w2 -= learning_rate * dw2/m\n",
        "            self.w3 -= learning_rate * dw3/m\n",
        "            self.w4 -= learning_rate * dw4/m\n",
        "            self.w5 -= learning_rate * dw5/m\n",
        "            self.w6 -= learning_rate * dw6/m\n",
        "            self.w7 -= learning_rate * dw7/m\n",
        "            self.w8 -= learning_rate * dw8/m\n",
        "            self.b1 -= learning_rate * db1/m\n",
        "            self.b2 -= learning_rate * db2/m\n",
        "            self.b3 -= learning_rate * db3/m\n",
        "            self.b4 -= learning_rate * db4/m\n",
        "            if display_loss:\n",
        "                Y_pred = self.predict(X)\n",
        "                loss[i] = mean_squared_error(Y_pred,Y)+log_loss(np.argmax(Y,axis=1),Y_pred)\n",
        "        if display_loss:\n",
        "            plt.plot(list(loss.values()))\n",
        "            plt.show()\n",
        "    def predict(self,X):\n",
        "        Y_pred = []\n",
        "        for x in X:\n",
        "            y_pred = self.forward_pass(x)\n",
        "            Y_pred.append(y_pred)\n",
        "        return np.array(Y_pred)"
      ],
      "metadata": {
        "id": "1SgOTPYhB2ew"
      },
      "execution_count": null,
      "outputs": []
    },
    {
      "cell_type": "code",
      "source": [
        "model = net()\n",
        "model.fit(X_train,y_OH_train,epochs=3000,learning_rate=0.01,display_loss=True)"
      ],
      "metadata": {
        "colab": {
          "base_uri": "https://localhost:8080/",
          "height": 334,
          "referenced_widgets": [
            "0dae4e7120e246049209e1cbb2abfcfc",
            "62430c762f8746bdbbc4df6ee41fbd20",
            "d3d653b1897648fb8be3fee8b154e271",
            "4924a74c14f044d5bdd3c30ee1a54683",
            "a542c74fe10f4f71ae763ee6bcdaba73",
            "b51c8e6419f34f3ba154e0b412b4bec4",
            "a012df32698b40048318787c4511bd93",
            "e293ad5efca340faba6eeb389fec91a1",
            "2a93e91ce9c54658a03e9bc48accafad",
            "c09162bcdaed4f0c9c0ab5ecd5149f32",
            "e32cdb1258dc4711a5cc848dce25cb66"
          ]
        },
        "id": "fGmpiiTxszBw",
        "outputId": "c588800e-7483-4e4d-a0f4-489ab2f075d1"
      },
      "execution_count": null,
      "outputs": [
        {
          "output_type": "stream",
          "name": "stderr",
          "text": [
            "/usr/local/lib/python3.7/dist-packages/ipykernel_launcher.py:58: TqdmDeprecationWarning: This function will be removed in tqdm==5.0.0\n",
            "Please use `tqdm.notebook.tqdm` instead of `tqdm.tqdm_notebook`\n"
          ]
        },
        {
          "output_type": "display_data",
          "data": {
            "text/plain": [
              "  0%|          | 0/3000 [00:00<?, ?epoch/s]"
            ],
            "application/vnd.jupyter.widget-view+json": {
              "version_major": 2,
              "version_minor": 0,
              "model_id": "0dae4e7120e246049209e1cbb2abfcfc"
            }
          },
          "metadata": {}
        },
        {
          "output_type": "display_data",
          "data": {
            "text/plain": [
              "<Figure size 432x288 with 1 Axes>"
            ],
            "image/png": "[encoded data removed]"
          },
          "metadata": {
            "needs_background": "light"
          }
        }
      ]
    },
    {
      "cell_type": "code",
      "source": [
        "y_pred_=model.predict(X_val)\n",
        "Y_pred_val = np.argmax(y_pred_,1)"
      ],
      "metadata": {
        "id": "s5jKC-8n1efb"
      },
      "execution_count": null,
      "outputs": []
    },
    {
      "cell_type": "code",
      "source": [
        "print(\"validation accuracy \",accuracy_score(Y_pred_val,Y_val))"
      ],
      "metadata": {
        "colab": {
          "base_uri": "https://localhost:8080/"
        },
        "id": "WJtKE7qh3jha",
        "outputId": "c5bf7b5e-9fbc-4f32-d924-a92fe3aff5d9"
      },
      "execution_count": null,
      "outputs": [
        {
          "output_type": "stream",
          "name": "stdout",
          "text": [
            "validation accuracy  0.936\n"
          ]
        }
      ]
    },
    {
      "cell_type": "code",
      "source": [
        "plt.scatter(X_val[:,0], X_val[:,1], c=Y_pred_val, cmap=my_cmap, s=15*(np.abs(np.sign(Y_pred_val-Y_val))+.1))\n",
        "plt.show()"
      ],
      "metadata": {
        "colab": {
          "base_uri": "https://localhost:8080/",
          "height": 268
        },
        "id": "1Zlfuk3_2JE7",
        "outputId": "72e62012-1693-47f6-b76a-8d104a15183a"
      },
      "execution_count": null,
      "outputs": [
        {
          "output_type": "display_data",
          "data": {
            "text/plain": [
              "<Figure size 432x288 with 1 Axes>"
            ],
            "image/png": "[encoded data removed]"
          },
          "metadata": {
            "needs_background": "light"
          }
        }
      ]
    },
    {
      "cell_type": "code",
      "source": [],
      "metadata": {
        "id": "Wwi3CUhHYOYD"
      },
      "execution_count": null,
      "outputs": []
    }
  ]
}