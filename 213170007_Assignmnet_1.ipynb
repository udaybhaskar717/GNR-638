{
  "nbformat": 4,
  "nbformat_minor": 0,
  "metadata": {
    "colab": {
      "name": "213170007_Assignmnet_1.ipynb",
      "provenance": [],
      "collapsed_sections": [],
      "authorship_tag": "ABX9TyMjMLI0v391wkjZlGqzmjfN",
      "include_colab_link": true
    },
    "kernelspec": {
      "name": "python3",
      "display_name": "Python 3"
    },
    "language_info": {
      "name": "python"
    },
    "widgets": {
      "application/vnd.jupyter.widget-state+json": {
        "72e6dbcbaf2c4fd2a5509bf78769f1b6": {
          "model_module": "@jupyter-widgets/controls",
          "model_name": "HBoxModel",
          "model_module_version": "1.5.0",
          "state": {
            "_dom_classes": [],
            "_model_module": "@jupyter-widgets/controls",
            "_model_module_version": "1.5.0",
            "_model_name": "HBoxModel",
            "_view_count": null,
            "_view_module": "@jupyter-widgets/controls",
            "_view_module_version": "1.5.0",
            "_view_name": "HBoxView",
            "box_style": "",
            "children": [
              "IPY_MODEL_b7c0ce044c9647b2bb43d1163de5804e",
              "IPY_MODEL_1eae48bc75f9407d9c7c46c5213702ea",
              "IPY_MODEL_e19dc1972b63433da3f773b37b9bf11b"
            ],
            "layout": "IPY_MODEL_4b7b1029b5594319908c491c3e5a38b3"
          }
        },
        "b7c0ce044c9647b2bb43d1163de5804e": {
          "model_module": "@jupyter-widgets/controls",
          "model_name": "HTMLModel",
          "model_module_version": "1.5.0",
          "state": {
            "_dom_classes": [],
            "_model_module": "@jupyter-widgets/controls",
            "_model_module_version": "1.5.0",
            "_model_name": "HTMLModel",
            "_view_count": null,
            "_view_module": "@jupyter-widgets/controls",
            "_view_module_version": "1.5.0",
            "_view_name": "HTMLView",
            "description": "",
            "description_tooltip": null,
            "layout": "IPY_MODEL_4d461c2a03af4db2b4d87ac25083aa21",
            "placeholder": "​",
            "style": "IPY_MODEL_e73a78fb901c4092b8f538dd32d5e88e",
            "value": "100%"
          }
        },
        "1eae48bc75f9407d9c7c46c5213702ea": {
          "model_module": "@jupyter-widgets/controls",
          "model_name": "FloatProgressModel",
          "model_module_version": "1.5.0",
          "state": {
            "_dom_classes": [],
            "_model_module": "@jupyter-widgets/controls",
            "_model_module_version": "1.5.0",
            "_model_name": "FloatProgressModel",
            "_view_count": null,
            "_view_module": "@jupyter-widgets/controls",
            "_view_module_version": "1.5.0",
            "_view_name": "ProgressView",
            "bar_style": "success",
            "description": "",
            "description_tooltip": null,
            "layout": "IPY_MODEL_68e934bb398740fd93938104c045d4b5",
            "max": 3000,
            "min": 0,
            "orientation": "horizontal",
            "style": "IPY_MODEL_727f48e1a3964e288caefc5bd15dabf3",
            "value": 3000
          }
        },
        "e19dc1972b63433da3f773b37b9bf11b": {
          "model_module": "@jupyter-widgets/controls",
          "model_name": "HTMLModel",
          "model_module_version": "1.5.0",
          "state": {
            "_dom_classes": [],
            "_model_module": "@jupyter-widgets/controls",
            "_model_module_version": "1.5.0",
            "_model_name": "HTMLModel",
            "_view_count": null,
            "_view_module": "@jupyter-widgets/controls",
            "_view_module_version": "1.5.0",
            "_view_name": "HTMLView",
            "description": "",
            "description_tooltip": null,
            "layout": "IPY_MODEL_1be4653805b14261937fdb3250bf5608",
            "placeholder": "​",
            "style": "IPY_MODEL_3efea47a03944e7cacee1a9e17d50a77",
            "value": " 3000/3000 [02:10&lt;00:00, 23.32epoch/s]"
          }
        },
        "4b7b1029b5594319908c491c3e5a38b3": {
          "model_module": "@jupyter-widgets/base",
          "model_name": "LayoutModel",
          "model_module_version": "1.2.0",
          "state": {
            "_model_module": "@jupyter-widgets/base",
            "_model_module_version": "1.2.0",
            "_model_name": "LayoutModel",
            "_view_count": null,
            "_view_module": "@jupyter-widgets/base",
            "_view_module_version": "1.2.0",
            "_view_name": "LayoutView",
            "align_content": null,
            "align_items": null,
            "align_self": null,
            "border": null,
            "bottom": null,
            "display": null,
            "flex": null,
            "flex_flow": null,
            "grid_area": null,
            "grid_auto_columns": null,
            "grid_auto_flow": null,
            "grid_auto_rows": null,
            "grid_column": null,
            "grid_gap": null,
            "grid_row": null,
            "grid_template_areas": null,
            "grid_template_columns": null,
            "grid_template_rows": null,
            "height": null,
            "justify_content": null,
            "justify_items": null,
            "left": null,
            "margin": null,
            "max_height": null,
            "max_width": null,
            "min_height": null,
            "min_width": null,
            "object_fit": null,
            "object_position": null,
            "order": null,
            "overflow": null,
            "overflow_x": null,
            "overflow_y": null,
            "padding": null,
            "right": null,
            "top": null,
            "visibility": null,
            "width": null
          }
        },
        "4d461c2a03af4db2b4d87ac25083aa21": {
          "model_module": "@jupyter-widgets/base",
          "model_name": "LayoutModel",
          "model_module_version": "1.2.0",
          "state": {
            "_model_module": "@jupyter-widgets/base",
            "_model_module_version": "1.2.0",
            "_model_name": "LayoutModel",
            "_view_count": null,
            "_view_module": "@jupyter-widgets/base",
            "_view_module_version": "1.2.0",
            "_view_name": "LayoutView",
            "align_content": null,
            "align_items": null,
            "align_self": null,
            "border": null,
            "bottom": null,
            "display": null,
            "flex": null,
            "flex_flow": null,
            "grid_area": null,
            "grid_auto_columns": null,
            "grid_auto_flow": null,
            "grid_auto_rows": null,
            "grid_column": null,
            "grid_gap": null,
            "grid_row": null,
            "grid_template_areas": null,
            "grid_template_columns": null,
            "grid_template_rows": null,
            "height": null,
            "justify_content": null,
            "justify_items": null,
            "left": null,
            "margin": null,
            "max_height": null,
            "max_width": null,
            "min_height": null,
            "min_width": null,
            "object_fit": null,
            "object_position": null,
            "order": null,
            "overflow": null,
            "overflow_x": null,
            "overflow_y": null,
            "padding": null,
            "right": null,
            "top": null,
            "visibility": null,
            "width": null
          }
        },
        "e73a78fb901c4092b8f538dd32d5e88e": {
          "model_module": "@jupyter-widgets/controls",
          "model_name": "DescriptionStyleModel",
          "model_module_version": "1.5.0",
          "state": {
            "_model_module": "@jupyter-widgets/controls",
            "_model_module_version": "1.5.0",
            "_model_name": "DescriptionStyleModel",
            "_view_count": null,
            "_view_module": "@jupyter-widgets/base",
            "_view_module_version": "1.2.0",
            "_view_name": "StyleView",
            "description_width": ""
          }
        },
        "68e934bb398740fd93938104c045d4b5": {
          "model_module": "@jupyter-widgets/base",
          "model_name": "LayoutModel",
          "model_module_version": "1.2.0",
          "state": {
            "_model_module": "@jupyter-widgets/base",
            "_model_module_version": "1.2.0",
            "_model_name": "LayoutModel",
            "_view_count": null,
            "_view_module": "@jupyter-widgets/base",
            "_view_module_version": "1.2.0",
            "_view_name": "LayoutView",
            "align_content": null,
            "align_items": null,
            "align_self": null,
            "border": null,
            "bottom": null,
            "display": null,
            "flex": null,
            "flex_flow": null,
            "grid_area": null,
            "grid_auto_columns": null,
            "grid_auto_flow": null,
            "grid_auto_rows": null,
            "grid_column": null,
            "grid_gap": null,
            "grid_row": null,
            "grid_template_areas": null,
            "grid_template_columns": null,
            "grid_template_rows": null,
            "height": null,
            "justify_content": null,
            "justify_items": null,
            "left": null,
            "margin": null,
            "max_height": null,
            "max_width": null,
            "min_height": null,
            "min_width": null,
            "object_fit": null,
            "object_position": null,
            "order": null,
            "overflow": null,
            "overflow_x": null,
            "overflow_y": null,
            "padding": null,
            "right": null,
            "top": null,
            "visibility": null,
            "width": null
          }
        },
        "727f48e1a3964e288caefc5bd15dabf3": {
          "model_module": "@jupyter-widgets/controls",
          "model_name": "ProgressStyleModel",
          "model_module_version": "1.5.0",
          "state": {
            "_model_module": "@jupyter-widgets/controls",
            "_model_module_version": "1.5.0",
            "_model_name": "ProgressStyleModel",
            "_view_count": null,
            "_view_module": "@jupyter-widgets/base",
            "_view_module_version": "1.2.0",
            "_view_name": "StyleView",
            "bar_color": null,
            "description_width": ""
          }
        },
        "1be4653805b14261937fdb3250bf5608": {
          "model_module": "@jupyter-widgets/base",
          "model_name": "LayoutModel",
          "model_module_version": "1.2.0",
          "state": {
            "_model_module": "@jupyter-widgets/base",
            "_model_module_version": "1.2.0",
            "_model_name": "LayoutModel",
            "_view_count": null,
            "_view_module": "@jupyter-widgets/base",
            "_view_module_version": "1.2.0",
            "_view_name": "LayoutView",
            "align_content": null,
            "align_items": null,
            "align_self": null,
            "border": null,
            "bottom": null,
            "display": null,
            "flex": null,
            "flex_flow": null,
            "grid_area": null,
            "grid_auto_columns": null,
            "grid_auto_flow": null,
            "grid_auto_rows": null,
            "grid_column": null,
            "grid_gap": null,
            "grid_row": null,
            "grid_template_areas": null,
            "grid_template_columns": null,
            "grid_template_rows": null,
            "height": null,
            "justify_content": null,
            "justify_items": null,
            "left": null,
            "margin": null,
            "max_height": null,
            "max_width": null,
            "min_height": null,
            "min_width": null,
            "object_fit": null,
            "object_position": null,
            "order": null,
            "overflow": null,
            "overflow_x": null,
            "overflow_y": null,
            "padding": null,
            "right": null,
            "top": null,
            "visibility": null,
            "width": null
          }
        },
        "3efea47a03944e7cacee1a9e17d50a77": {
          "model_module": "@jupyter-widgets/controls",
          "model_name": "DescriptionStyleModel",
          "model_module_version": "1.5.0",
          "state": {
            "_model_module": "@jupyter-widgets/controls",
            "_model_module_version": "1.5.0",
            "_model_name": "DescriptionStyleModel",
            "_view_count": null,
            "_view_module": "@jupyter-widgets/base",
            "_view_module_version": "1.2.0",
            "_view_name": "StyleView",
            "description_width": ""
          }
        }
      }
    },
    "accelerator": "GPU",
    "gpuClass": "standard"
  },
  "cells": [
    {
      "cell_type": "markdown",
      "metadata": {
        "id": "view-in-github",
        "colab_type": "text"
      },
      "source": [
        "<a href=\"https://colab.research.google.com/github/udaybhaskar717/GNR-638/blob/main/213170007_Assignmnet_1.ipynb\" target=\"_parent\"><img src=\"https://colab.research.google.com/assets/colab-badge.svg\" alt=\"Open In Colab\"/></a>"
      ]
    },
    {
      "cell_type": "markdown",
      "source": [
        "#Q1"
      ],
      "metadata": {
        "id": "ydbHdb7U1r0O"
      }
    },
    {
      "cell_type": "code",
      "execution_count": 82,
      "metadata": {
        "id": "d7GMCmZt-FMN"
      },
      "outputs": [],
      "source": [
        "import numpy as np\n",
        "import matplotlib.pyplot as plt\n",
        "import matplotlib.colors\n",
        "import pandas as pd\n",
        "from sklearn.model_selection import train_test_split\n",
        "from sklearn.metrics import accuracy_score, mean_squared_error, log_loss\n",
        "from tqdm import tqdm_notebook \n",
        "import tqdm\n",
        "import seaborn as sns\n",
        "import imageio\n",
        "from IPython.display import HTML\n",
        "\n",
        "\n",
        "from sklearn.preprocessing import OneHotEncoder\n",
        "from sklearn.datasets import make_blobs"
      ]
    },
    {
      "cell_type": "code",
      "source": [
        "my_cmap = matplotlib.colors.LinearSegmentedColormap.from_list(\"\", [\"red\",\"yellow\",\"green\"])"
      ],
      "metadata": {
        "id": "4qfD6-eVBn0Y"
      },
      "execution_count": 83,
      "outputs": []
    },
    {
      "cell_type": "code",
      "source": [
        "np.random.seed(0)"
      ],
      "metadata": {
        "id": "nf6fK5cxBqPm"
      },
      "execution_count": 84,
      "outputs": []
    },
    {
      "cell_type": "code",
      "source": [
        "data, labels = make_blobs(n_samples=1000, centers=2, n_features=2, random_state=0)\n",
        "print(data.shape, labels.shape)"
      ],
      "metadata": {
        "colab": {
          "base_uri": "https://localhost:8080/"
        },
        "id": "-L5EqFcKBr_U",
        "outputId": "82b67bcb-c990-4a8f-aa3a-ca892324d2b8"
      },
      "execution_count": 85,
      "outputs": [
        {
          "output_type": "stream",
          "name": "stdout",
          "text": [
            "(1000, 2) (1000,)\n"
          ]
        }
      ]
    },
    {
      "cell_type": "code",
      "source": [
        "df1=pd.DataFrame(data,columns=['X1','X2'])"
      ],
      "metadata": {
        "id": "UhLksfyypdz3"
      },
      "execution_count": 86,
      "outputs": []
    },
    {
      "cell_type": "code",
      "source": [
        "enc = OneHotEncoder()\n",
        "y_labels = enc.fit_transform(np.expand_dims(labels,1)).toarray()"
      ],
      "metadata": {
        "id": "vesFPH4KzM08"
      },
      "execution_count": 87,
      "outputs": []
    },
    {
      "cell_type": "code",
      "source": [
        "df2=pd.DataFrame(y_labels,columns=[\"y1\",'y2'])"
      ],
      "metadata": {
        "id": "Ue8RahPKrQ61"
      },
      "execution_count": 88,
      "outputs": []
    },
    {
      "cell_type": "code",
      "source": [
        "df1[['y1','y2']]=df2[['y1','y2']]"
      ],
      "metadata": {
        "id": "qVnSbHyirhdv"
      },
      "execution_count": 89,
      "outputs": []
    },
    {
      "cell_type": "code",
      "source": [
        "indexes1 = df1[df1['y1']==1].index\n",
        "indexes2=df1[df1['y2']==0].index\n"
      ],
      "metadata": {
        "id": "EoXeGaH1vYuV"
      },
      "execution_count": 90,
      "outputs": []
    },
    {
      "cell_type": "code",
      "source": [
        "x1_1=list(1+(df1[df1['y1']==1]['X1']-0.905686)*(0.5/df1[df1['y1']==1]['X1'].std()))\n",
        "x2_1=1+(df1[df1['y1']==1]['X2']-df1[df1['y1']==1]['X2'].mean())*(0.5/df1[df1['y1']==1]['X2'].std())"
      ],
      "metadata": {
        "id": "lHAAg_ORwI6R"
      },
      "execution_count": 91,
      "outputs": []
    },
    {
      "cell_type": "code",
      "source": [
        "x1_2=2+(df1[df1['y1']==0]['X2']-df1[df1['y1']==0]['X2'].mean())*(0.2/df1[df1['y1']==0]['X2'].std())\n",
        "x2_2=2+(df1[df1['y1']==0]['X1']-df1[df1['y1']==0]['X1'].mean())*(0.2/df1[df1['y1']==0]['X1'].std())"
      ],
      "metadata": {
        "id": "G3p8Vfw4xtDv"
      },
      "execution_count": 92,
      "outputs": []
    },
    {
      "cell_type": "code",
      "source": [
        "for i,j in zip(indexes1,x1_1):\n",
        "    df1.loc[i,'X1']=j\n",
        "for i,j in zip(indexes1,x2_1):\n",
        "    df1.loc[i,'X2']=j\n",
        "for i,j in zip(indexes2,x1_2):\n",
        "    df1.loc[i,'X1']=j\n",
        "for i,j in zip(indexes2,x2_2):\n",
        "    df1.loc[i,'X2']=j"
      ],
      "metadata": {
        "id": "vlifYr_bvbws"
      },
      "execution_count": 93,
      "outputs": []
    },
    {
      "cell_type": "code",
      "source": [
        "class net:\n",
        "    def __init__(self):\n",
        "        self.w1=np.random.rand()\n",
        "        self.w2=np.random.rand()\n",
        "        self.w3=np.random.rand()\n",
        "        self.w4=np.random.rand()\n",
        "        self.w5=np.random.rand()\n",
        "        self.w6=np.random.rand()\n",
        "        self.w7=np.random.rand()\n",
        "        self.w8=np.random.rand()\n",
        "        self.b1=0\n",
        "        self.b2=0\n",
        "        self.b3=0\n",
        "        self.b4=0\n",
        "    def tanh(self,x):\n",
        "        return np.tanh(x)\n",
        "    def softmax(self,A):\n",
        "        return np.exp(A)/(np.sum(np.exp(A)))\n",
        "    def forward_pass(self,x):\n",
        "        self.x1,self.x2=x\n",
        "        self.a1 = self.w1*self.x1+self.w2*self.x2++self.b1\n",
        "        self.h1 = self.tanh(self.a1)\n",
        "        self.a2 = self.w3*self.x1+self.w4*self.x2++self.b2\n",
        "        self.h2 = self.tanh(self.a2)\n",
        "        self.a3 = self.w5*self.h1+self.w6*self.h2++self.b3\n",
        "        self.a4 = self.w7*self.h1+self.w8*self.h2++self.b4\n",
        "        self.h3,self.h4 = self.softmax(np.array([self.a3,self.a4]))\n",
        "        return np.array([self.h3,self.h4])\n",
        "    def grad(self,x,y):\n",
        "        self.forward_pass(x)\n",
        "        self.y1,self.y2 =y\n",
        "        self.da3 = (self.h3-self.y1)*(self.h3*(1-self.h3)+1)\n",
        "        self.da4 = (self.h4-self.y2)*(self.h4*(1-self.h4)+1)\n",
        "\n",
        "        self.dw5 = self.da3 * self.h1\n",
        "        self.dw6 = self.da3 * self.h2\n",
        "        self.db3 = self.da3\n",
        "\n",
        "        self.dw7 = self.da4 * self.h1\n",
        "        self.dw8 = self.da4 * self.h2\n",
        "        self.db4 = self.da4\n",
        "\n",
        "        self.da1 = (1-self.h1**2) * (self.da3*self.w5 + self.da4*self.w7)\n",
        "        self.da2 = (1-self.h2**2) * (self.da3*self.w6 + self.da4*self.w8)\n",
        "\n",
        "        self.dw1 = self.da1*self.x1\n",
        "        self.dw2 = self.da1*self.x2\n",
        "        self.db1 = self.da1\n",
        "\n",
        "        self.dw3 = self.da2*self.x1\n",
        "        self.dw4 = self.da2*self.x2\n",
        "        self.db2 = self.da2\n",
        "\n",
        "    def fit(self,X,Y,epochs=1,learning_rate=1,display_loss=False):\n",
        "        if display_loss:\n",
        "            loss={}\n",
        "        \n",
        "        for i in tqdm_notebook(range(epochs),total=epochs,unit='epoch'):\n",
        "            dw1,dw2,dw3,dw4,dw5,dw6,dw7,dw8,db1,db2,db3,db4 =[0]*12\n",
        "            for x,y in zip(X,Y):\n",
        "                self.grad(x,y)\n",
        "                dw1+=self.dw1\n",
        "                dw2+=self.dw2\n",
        "                dw3+=self.dw3\n",
        "                dw4+=self.dw4\n",
        "                dw5+=self.dw5\n",
        "                dw6+=self.dw6\n",
        "                dw7+=self.dw7\n",
        "                dw8+=self.dw8\n",
        "                db1+=self.db1\n",
        "                db2+=self.db2\n",
        "                db3+=self.db3\n",
        "                db4+=self.db4\n",
        "            m=X.shape[0]\n",
        "            self.w1 -= learning_rate * dw1/m\n",
        "            self.w2 -= learning_rate * dw2/m\n",
        "            self.w3 -= learning_rate * dw3/m\n",
        "            self.w4 -= learning_rate * dw4/m\n",
        "            self.w5 -= learning_rate * dw5/m\n",
        "            self.w6 -= learning_rate * dw6/m\n",
        "            self.w7 -= learning_rate * dw7/m\n",
        "            self.w8 -= learning_rate * dw8/m\n",
        "            self.b1 -= learning_rate * db1/m\n",
        "            self.b2 -= learning_rate * db2/m\n",
        "            self.b3 -= learning_rate * db3/m\n",
        "            self.b4 -= learning_rate * db4/m\n",
        "            if display_loss:\n",
        "                Y_pred = self.predict(X)\n",
        "                loss[i] = mean_squared_error(Y_pred,Y)+log_loss(np.argmax(Y,axis=1),Y_pred)\n",
        "        if display_loss:\n",
        "            plt.plot(list(loss.values()))\n",
        "            plt.show()\n",
        "    def predict(self,X):\n",
        "        Y_pred = []\n",
        "        for x in X:\n",
        "            y_pred = self.forward_pass(x)\n",
        "            Y_pred.append(y_pred)\n",
        "        return np.array(Y_pred)"
      ],
      "metadata": {
        "id": "1SgOTPYhB2ew"
      },
      "execution_count": 96,
      "outputs": []
    },
    {
      "cell_type": "markdown",
      "source": [
        "# Q3"
      ],
      "metadata": {
        "id": "ubNCg2St1nBj"
      }
    },
    {
      "cell_type": "code",
      "source": [
        "model = net()\n",
        "model.fit(df1[['X1','X2']].to_numpy(),df1[['y1','y2']].to_numpy(),epochs=3000,learning_rate=0.01,display_loss=True)"
      ],
      "metadata": {
        "colab": {
          "base_uri": "https://localhost:8080/",
          "height": 336,
          "referenced_widgets": [
            "72e6dbcbaf2c4fd2a5509bf78769f1b6",
            "b7c0ce044c9647b2bb43d1163de5804e",
            "1eae48bc75f9407d9c7c46c5213702ea",
            "e19dc1972b63433da3f773b37b9bf11b",
            "4b7b1029b5594319908c491c3e5a38b3",
            "4d461c2a03af4db2b4d87ac25083aa21",
            "e73a78fb901c4092b8f538dd32d5e88e",
            "68e934bb398740fd93938104c045d4b5",
            "727f48e1a3964e288caefc5bd15dabf3",
            "1be4653805b14261937fdb3250bf5608",
            "3efea47a03944e7cacee1a9e17d50a77"
          ]
        },
        "id": "fGmpiiTxszBw",
        "outputId": "cbd263c6-3dab-42b1-fb3c-596c784d74ee"
      },
      "execution_count": 105,
      "outputs": [
        {
          "output_type": "stream",
          "name": "stderr",
          "text": [
            "/usr/local/lib/python3.7/dist-packages/ipykernel_launcher.py:58: TqdmDeprecationWarning: This function will be removed in tqdm==5.0.0\n",
            "Please use `tqdm.notebook.tqdm` instead of `tqdm.tqdm_notebook`\n"
          ]
        },
        {
          "output_type": "display_data",
          "data": {
            "text/plain": [
              "  0%|          | 0/3000 [00:00<?, ?epoch/s]"
            ],
            "application/vnd.jupyter.widget-view+json": {
              "version_major": 2,
              "version_minor": 0,
              "model_id": "72e6dbcbaf2c4fd2a5509bf78769f1b6"
            }
          },
          "metadata": {}
        },
        {
          "output_type": "display_data",
          "data": {
            "text/plain": [
              "<Figure size 432x288 with 1 Axes>"
            ],
            "image/png": "[encoded data removed]"
          },
          "metadata": {
            "needs_background": "light"
          }
        }
      ]
    },
    {
      "cell_type": "code",
      "source": [],
      "metadata": {
        "id": "Wwi3CUhHYOYD"
      },
      "execution_count": null,
      "outputs": []
    }
  ]
}